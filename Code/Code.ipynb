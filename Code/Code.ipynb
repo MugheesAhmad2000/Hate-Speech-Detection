{
  "cells": [
    {
      "cell_type": "markdown",
      "metadata": {
        "id": "doSgNW-JAZlO"
      },
      "source": [
        "# Libraries"
      ]
    },
    {
      "cell_type": "code",
      "execution_count": null,
      "metadata": {
        "colab": {
          "base_uri": "https://localhost:8080/"
        },
        "id": "movJP_lH8CQw",
        "outputId": "e300d0c8-0476-4329-9406-28c8165452d3"
      },
      "outputs": [
        {
          "output_type": "stream",
          "name": "stdout",
          "text": [
            "[nltk_data] Downloading package stopwords to /root/nltk_data...\n",
            "[nltk_data]   Unzipping corpora/stopwords.zip.\n",
            "[nltk_data] Downloading package punkt to /root/nltk_data...\n",
            "[nltk_data]   Unzipping tokenizers/punkt.zip.\n",
            "[nltk_data] Downloading package wordnet to /root/nltk_data...\n",
            "[nltk_data]   Unzipping corpora/wordnet.zip.\n"
          ]
        }
      ],
      "source": [
        "import pandas as pd\n",
        "import numpy as np\n",
        "import re\n",
        "import nltk\n",
        "nltk.download('stopwords')\n",
        "nltk.download('punkt')\n",
        "nltk.download('wordnet')\n",
        "import seaborn as sns\n",
        "import matplotlib.pyplot as plt\n",
        "from matplotlib import style\n",
        "style.use('ggplot')\n",
        "from nltk.tokenize import word_tokenize\n",
        "from nltk.stem import WordNetLemmatizer\n",
        "from nltk.corpus import stopwords\n",
        "stop_words = set(stopwords.words('english'))\n",
        "from wordcloud import WordCloud\n",
        "from sklearn.feature_extraction.text import TfidfVectorizer\n",
        "from sklearn.model_selection import train_test_split\n",
        "from sklearn.linear_model import LogisticRegression\n",
        "from sklearn.linear_model import LinearRegression\n",
        "from sklearn.metrics import accuracy_score, classification_report, confusion_matrix, ConfusionMatrixDisplay"
      ]
    },
    {
      "cell_type": "markdown",
      "metadata": {
        "id": "9IMOROspAkMc"
      },
      "source": [
        "# Reading data"
      ]
    },
    {
      "cell_type": "code",
      "execution_count": null,
      "metadata": {
        "id": "75fdg7vS9NjE"
      },
      "outputs": [],
      "source": [
        "df = pd.read_excel('/content/ISEP Sexist Data labeling.xlsx')"
      ]
    },
    {
      "cell_type": "code",
      "execution_count": null,
      "metadata": {
        "colab": {
          "base_uri": "https://localhost:8080/"
        },
        "id": "WeMYWfje9g_L",
        "outputId": "4b234657-8daa-4d3b-dfbb-62f3ad3ab2d7"
      },
      "outputs": [
        {
          "output_type": "stream",
          "name": "stdout",
          "text": [
            "<class 'pandas.core.frame.DataFrame'>\n",
            "RangeIndex: 1137 entries, 0 to 1136\n",
            "Data columns (total 2 columns):\n",
            " #   Column     Non-Null Count  Dtype \n",
            "---  ------     --------------  ----- \n",
            " 0   Sentences  1137 non-null   object\n",
            " 1   Label      1137 non-null   int64 \n",
            "dtypes: int64(1), object(1)\n",
            "memory usage: 17.9+ KB\n"
          ]
        },
        {
          "output_type": "execute_result",
          "data": {
            "text/plain": [
              "1    624\n",
              "0    513\n",
              "Name: Label, dtype: int64"
            ]
          },
          "metadata": {},
          "execution_count": 3
        }
      ],
      "source": [
        "df.info()\n",
        "df['Label'].value_counts()"
      ]
    },
    {
      "cell_type": "markdown",
      "metadata": {
        "id": "Zq7TKZgKAnFO"
      },
      "source": [
        "# Data Preprocessing"
      ]
    },
    {
      "cell_type": "code",
      "execution_count": null,
      "metadata": {
        "id": "WH9mV0f89zEs"
      },
      "outputs": [],
      "source": [
        "def data_processing(Sentence):\n",
        "    Sentence = Sentence.lower()\n",
        "    Sentence = re.sub(r'[^\\w\\s]','',Sentence)\n",
        "    Sentence = re.sub(r'\\@w+|\\#','', Sentence)\n",
        "    Sentence = re.sub(r'ð','',Sentence)\n",
        "    Sentence_tokens = word_tokenize(Sentence)\n",
        "    filtered_Sentences = [w for w in Sentence_tokens if not w in stop_words]\n",
        "    return \" \".join(filtered_Sentences)\n",
        "\n",
        "lemmatizer = WordNetLemmatizer()\n",
        "def lemmatizing(data):\n",
        "    Sentences = [lemmatizer.lemmatize(word) for word in data]\n",
        "    return data"
      ]
    },
    {
      "cell_type": "code",
      "execution_count": null,
      "metadata": {
        "id": "cFCvSxbT-VN4"
      },
      "outputs": [],
      "source": [
        "df.Sentences = df['Sentences'].apply(data_processing)\n",
        "df = df.drop_duplicates('Sentences')\n",
        "df['Sentences'] = df['Sentences'].apply(lambda x: lemmatizing(x))"
      ]
    },
    {
      "cell_type": "code",
      "execution_count": null,
      "metadata": {
        "colab": {
          "base_uri": "https://localhost:8080/"
        },
        "id": "nvkRRPeZ_9oo",
        "outputId": "090219db-32ef-4f43-8f4e-e7e12d7bd3c9"
      },
      "outputs": [
        {
          "output_type": "execute_result",
          "data": {
            "text/plain": [
              "1    512\n",
              "0    512\n",
              "Name: Label, dtype: int64"
            ]
          },
          "metadata": {},
          "execution_count": 6
        }
      ],
      "source": [
        "# For balancing the labels\n",
        "from sklearn.utils import resample\n",
        "train_majority = df[df.Label==0]\n",
        "train_minority = df[df.Label==1]\n",
        "train_minority_upsampled = resample(train_minority, \n",
        "                                 replace=True,    \n",
        "                                 n_samples=len(train_majority),   \n",
        "                                 random_state=123)\n",
        "df = pd.concat([train_minority_upsampled, train_majority])\n",
        "df['Label'].value_counts()\n"
      ]
    },
    {
      "cell_type": "markdown",
      "metadata": {
        "id": "FHYpC1c0AsUW"
      },
      "source": [
        "# Data visulization"
      ]
    },
    {
      "cell_type": "code",
      "execution_count": null,
      "metadata": {
        "colab": {
          "base_uri": "https://localhost:8080/"
        },
        "id": "jT9_Anpvrq3i",
        "outputId": "76cb4768-a337-427e-acec-d006a4f1c255"
      },
      "outputs": [
        {
          "output_type": "execute_result",
          "data": {
            "text/plain": [
              "<matplotlib.axes._subplots.AxesSubplot at 0x7fbec4f8cdd0>"
            ]
          },
          "metadata": {},
          "execution_count": 7
        },
        {
          "output_type": "display_data",
          "data": {
            "text/plain": [
              "<Figure size 360x360 with 1 Axes>"
            ],
            "image/png": "[encoded data removed]"
          },
          "metadata": {
            "needs_background": "light"
          }
        }
      ],
      "source": [
        "fig = plt.figure(figsize=(5,5))\n",
        "sns.countplot(x='Label', data = df)"
      ]
    },
    {
      "cell_type": "code",
      "execution_count": null,
      "metadata": {
        "colab": {
          "base_uri": "https://localhost:8080/"
        },
        "id": "CndCzqi5ARLE",
        "outputId": "5cef1747-0a3f-4a91-a917-4dec17b9e9d6"
      },
      "outputs": [
        {
          "output_type": "execute_result",
          "data": {
            "text/plain": [
              "Text(0.5, 1.0, 'Distribution of sentiments')"
            ]
          },
          "metadata": {},
          "execution_count": 8
        },
        {
          "output_type": "display_data",
          "data": {
            "text/plain": [
              "<Figure size 504x504 with 1 Axes>"
            ],
            "image/png": "[encoded data removed]"
          },
          "metadata": {}
        }
      ],
      "source": [
        "fig = plt.figure(figsize=(7,7))\n",
        "colors = (\"red\", \"yellow\")\n",
        "wp = {'linewidth':2, 'edgecolor':\"black\"}\n",
        "tags = df['Label'].value_counts()\n",
        "explode = (0.1, 0.1)\n",
        "tags.plot(kind='pie',autopct = '%1.1f%%', shadow=True, colors = colors, startangle =90, \n",
        "         wedgeprops = wp, explode = explode, label='')\n",
        "plt.title('Distribution of sentiments')"
      ]
    },
    {
      "cell_type": "markdown",
      "metadata": {
        "id": "w9BI47n54CSp"
      },
      "source": [
        "# Vectorization"
      ]
    },
    {
      "cell_type": "code",
      "execution_count": null,
      "metadata": {
        "colab": {
          "base_uri": "https://localhost:8080/"
        },
        "id": "d84dcHXgDK7Y",
        "outputId": "ddb3299c-e11e-4cb1-b6af-9601f211e2b7"
      },
      "outputs": [
        {
          "output_type": "stream",
          "name": "stdout",
          "text": [
            "Number of features: 10161\n",
            "\n"
          ]
        }
      ],
      "source": [
        "vect = TfidfVectorizer(ngram_range=(1,3)).fit(df['Sentences'])\n",
        "feature_names = vect.get_feature_names()\n",
        "print(\"Number of features: {}\\n\".format(len(feature_names)))"
      ]
    },
    {
      "cell_type": "markdown",
      "metadata": {
        "id": "jJ11wgLbDU9L"
      },
      "source": [
        "# Model Training & Testing"
      ]
    },
    {
      "cell_type": "code",
      "execution_count": null,
      "metadata": {
        "id": "WOs8IZ9BDTz9",
        "colab": {
          "base_uri": "https://localhost:8080/",
          "height": 696
        },
        "outputId": "57e72ff0-40b2-4ff3-926a-adcc806c76ea"
      },
      "outputs": [
        {
          "output_type": "stream",
          "name": "stdout",
          "text": [
            "Test accuarcy: 85.37%\n",
            "[[92 15]\n",
            " [15 83]] \n",
            "\n",
            "              precision    recall  f1-score   support\n",
            "\n",
            "           0       0.86      0.86      0.86       107\n",
            "           1       0.85      0.85      0.85        98\n",
            "\n",
            "    accuracy                           0.85       205\n",
            "   macro avg       0.85      0.85      0.85       205\n",
            "weighted avg       0.85      0.85      0.85       205\n",
            "\n"
          ]
        },
        {
          "output_type": "execute_result",
          "data": {
            "text/plain": [
              "<sklearn.metrics._plot.confusion_matrix.ConfusionMatrixDisplay at 0x7fbec2e9aed0>"
            ]
          },
          "metadata": {},
          "execution_count": 15
        },
        {
          "output_type": "display_data",
          "data": {
            "text/plain": [
              "<Figure size 640x480 with 2 Axes>"
            ],
            "image/png": "[encoded data removed]"
          },
          "metadata": {}
        }
      ],
      "source": [
        "X = df['Sentences']\n",
        "Y = df['Label']\n",
        "X = vect.transform(X)\n",
        "x_train, x_test, y_train, y_test = train_test_split(X, Y, test_size=0.2, random_state=1000)\n",
        "logreg = LogisticRegression()\n",
        "logreg.fit(x_train, y_train)\n",
        "logreg_predict = logreg.predict(x_test)\n",
        "logreg_acc = accuracy_score(logreg_predict, y_test)\n",
        "print(\"Test accuarcy: {:.2f}%\".format(logreg_acc*100))\n",
        "\n",
        "print(confusion_matrix(y_test, logreg_predict),\"\\n\")\n",
        "print(classification_report(y_test, logreg_predict))\n",
        "\n",
        "style.use('classic')\n",
        "cm = confusion_matrix(y_test, logreg_predict, labels=logreg.classes_)\n",
        "disp = ConfusionMatrixDisplay(confusion_matrix=cm, display_labels=logreg.classes_)\n",
        "disp.plot()"
      ]
    },
    {
      "cell_type": "code",
      "execution_count": null,
      "metadata": {
        "colab": {
          "base_uri": "https://localhost:8080/"
        },
        "id": "ui_A0uLYD_Cp",
        "outputId": "a7626801-e7b7-49f5-bb6e-c1b18d81c227"
      },
      "outputs": [
        {
          "output_type": "stream",
          "name": "stdout",
          "text": [
            "Best Cross validation score: 0.85\n",
            "Best parameters:  {'C': 100, 'solver': 'liblinear'}\n"
          ]
        }
      ],
      "source": [
        "from sklearn.model_selection import GridSearchCV\n",
        "import warnings\n",
        "warnings.filterwarnings('ignore')\n",
        "param_grid = {'C':[100, 10, 1.0, 0.1, 0.01], 'solver' :['newton-cg', 'lbfgs','liblinear']}\n",
        "grid = GridSearchCV(LogisticRegression(), param_grid, cv = 20)\n",
        "grid.fit(x_train, y_train)\n",
        "print(\"Best Cross validation score: {:.2f}\".format(grid.best_score_))\n",
        "print(\"Best parameters: \", grid.best_params_)"
      ]
    },
    {
      "cell_type": "code",
      "execution_count": null,
      "metadata": {
        "id": "BwQWhZTGEA-T"
      },
      "outputs": [],
      "source": [
        "y_pred = grid.predict(x_test)"
      ]
    },
    {
      "cell_type": "code",
      "execution_count": null,
      "metadata": {
        "colab": {
          "base_uri": "https://localhost:8080/",
          "height": 696
        },
        "id": "Rfe-Ug7uEGE4",
        "outputId": "519d8f08-3f9c-4adb-80ae-e2b9419d6dda"
      },
      "outputs": [
        {
          "output_type": "stream",
          "name": "stdout",
          "text": [
            "Test accuracy: 87.80%\n",
            "[[96 11]\n",
            " [14 84]] \n",
            "\n",
            "              precision    recall  f1-score   support\n",
            "\n",
            "           0       0.87      0.90      0.88       107\n",
            "           1       0.88      0.86      0.87        98\n",
            "\n",
            "    accuracy                           0.88       205\n",
            "   macro avg       0.88      0.88      0.88       205\n",
            "weighted avg       0.88      0.88      0.88       205\n",
            "\n"
          ]
        },
        {
          "output_type": "execute_result",
          "data": {
            "text/plain": [
              "<sklearn.metrics._plot.confusion_matrix.ConfusionMatrixDisplay at 0x7fbebdf0fa50>"
            ]
          },
          "metadata": {},
          "execution_count": 18
        },
        {
          "output_type": "display_data",
          "data": {
            "text/plain": [
              "<Figure size 640x480 with 2 Axes>"
            ],
            "image/png": "[encoded data removed]"
          },
          "metadata": {}
        }
      ],
      "source": [
        "logreg_acc = accuracy_score(y_pred, y_test)\n",
        "print(\"Test accuracy: {:.2f}%\".format(logreg_acc*100))\n",
        "\n",
        "print(confusion_matrix(y_test, y_pred),\"\\n\")\n",
        "print(classification_report(y_test, y_pred))\n",
        "\n",
        "style.use('classic')\n",
        "cm = confusion_matrix(y_test, y_pred, labels=logreg.classes_)\n",
        "disp = ConfusionMatrixDisplay(confusion_matrix=cm, display_labels=logreg.classes_)\n",
        "disp.plot()"
      ]
    }
  ],
  "metadata": {
    "colab": {
      "name": "Code",
      "provenance": []
    },
    "kernelspec": {
      "display_name": "Python 3",
      "name": "python3"
    },
    "language_info": {
      "name": "python"
    }
  },
  "nbformat": 4,
  "nbformat_minor": 0
}